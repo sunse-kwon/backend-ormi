{
  "nbformat": 4,
  "nbformat_minor": 0,
  "metadata": {
    "colab": {
      "provenance": []
    },
    "kernelspec": {
      "name": "python3",
      "display_name": "Python 3"
    },
    "language_info": {
      "name": "python"
    }
  },
  "cells": [
    {
      "cell_type": "markdown",
      "source": [
        "## 정규표현식"
      ],
      "metadata": {
        "id": "A1d4fN1rUWkW"
      }
    },
    {
      "cell_type": "markdown",
      "source": [
        "* Anchors (처음과 끝)\n",
        "    ```\n",
        "    /^hello/gm : 처음에 hello : begining of a string\n",
        "    /hello$/gm : 끝에 hello  : end of a string\n",
        "    \\b : word boundary\n",
        "    \\B : not word boundary\n",
        "    ```\n",
        "\n",
        "* dot (모든 문자)\n",
        "    ```\n",
        "    /.ello/gm : hello, Hello, vello\n",
        "    /./gm : 모든 문자열(*과 같은 역할)\n",
        "    /....../gm : 모든 6개의 문자열\n",
        "    ```\n",
        "\n",
        "* 대괄호 (택1)\n",
        "    ```\n",
        "    /h[eay]llo/gm : 대괄호 안에 문자는 문자 1개에 해당!\n",
        "    /h[ea]l../gm : 총 5개의 문자\n",
        "    ```\n",
        "\n",
        "* 대쉬 (범위)\n",
        "    ```\n",
        "    /h[a-f]llo/gm\n",
        "    /[a-zA-Z0-9]/gm : 모든 알파뱃과 숫자를 찾음\n",
        "    /[^a-zA-Z0-9]/gm : 나머지 문자열을 찾음\n",
        "    ```\n",
        "\n",
        "* 캐럿(caret) (대괄호 안에 들어가면 부정)\n",
        "    * 아래 경우 a와 e가 모두 부정\n",
        "        ```\n",
        "        /h[^ae]llo/gm : 대괄호 안에 있다면 not에 의미\n",
        "        ```\n",
        "\n",
        "* 소괄호 (서브패턴, 그룹)\n",
        "    * 패턴으로 외우시는 것보다 다양한 예제로 습득하시기를 권해드립니다.\n",
        "    ```\n",
        "    /(on|ues|rida)/gm : 그룹 1로 3개 중 매칭되는 패턴 찾음\n",
        "    ```\n",
        "\n",
        "* 수량자 (Quantifiers)\n",
        "    ```\n",
        "    _* : 앞에 있는 문자가 0개 ~ N개\n",
        "    _+ : 앞에 있는 문자가 1개 ~ N개\n",
        "    _? : 앞에 있는 문자가 0개 ~ 1개\n",
        "\n",
        "    {3} : 3개\n",
        "    {3,} : 3개 이상\n",
        "    {1,3} : 1개 ~ 3개\n",
        "\n",
        "    _* : 앞에 있는 문자가 0개 ~ N개 ({0,})\n",
        "    _+ : 앞에 있는 문자가 1개 ~ N개({1,})\n",
        "    _? : 앞에 있는 문자가 0개 ~ 1개 ({0,1})\n",
        "\n",
        "    /[0-9]{3}[-.* ][0-9]{4}[-.* ][0-9]{4}/gm\n",
        "    /[0-9a-zA-Z]{2,3}[-.* ][0-9]{3,4}[-.* ][0-9]{4}/gm\n",
        "    /[0-9a-zA-Z]+@[0-9a-zA-Z]+.[a-zA-Z]+/gm\n",
        "    ```\n",
        "\n",
        "* 캐릭터 클래스\n",
        "    ```\n",
        "    /\\w/gm : 워드(a-z, A-Z, 0-9, _)\n",
        "    /\\w{5} /gm : 5개의 글자와 스페이스 하나\n",
        "    /\\W/gm : not 워드\n",
        "    /\\d/gm : 숫자\n",
        "    /\\D/gm : not 숫자\n",
        "    /\\s/gm : white 스페이스(space, tab, newline)\n",
        "    /\\S/gm : not white 스페이스\n",
        "    ```\n",
        "\n",
        "* 이스케이프문자\n",
        "    ```\n",
        "    /\\[.*]/gm : 대괄호([]) 안에 감싸여진 문자열\n",
        "    /\\(.*\\)/gm : 소괄호 안에 감싸여진 문자열\n",
        "    /\\\\.*\\//gm : 이미 사용되고 있는 특수문자로 감싸여진 문자열\n",
        "    /-.*-/gm : 이스케이프 문자를 사용할 필요가 없는 경우\n",
        "    /\\^\\^/gm : 이스케이프 문자가 필요한 경우\n",
        "    /:\\)/gm : 이스케이프 문자가 필요한 경우\n",
        "    ```\n",
        "\n",
        "\n",
        "* (연습) 전화번호\n",
        "    ```\n",
        "    010[-,. ]?[0-9]{4}[-,. ]?[0-9]{4}\n",
        "    010([-,. ]?[0-9]{4}){2}\n",
        "    ```\n",
        "\n"
      ],
      "metadata": {
        "id": "69c-NFcBUavD"
      }
    },
    {
      "cell_type": "code",
      "source": [],
      "metadata": {
        "id": "CxA5WMUym5vK"
      },
      "execution_count": null,
      "outputs": []
    },
    {
      "cell_type": "markdown",
      "source": [],
      "metadata": {
        "id": "xEDmT0n9dy_l"
      }
    },
    {
      "cell_type": "code",
      "source": [
        "#문자열 > 패턴 == 정규표현식 문제라고 보면 된다\n",
        "010[-,. ]?[0-9]{4}[-,. ]?[0-9]{4}\n",
        "#이렇게도 묶인다. \n",
        "010([-,. ]?[0-9]{4}){2}"
      ],
      "metadata": {
        "id": "AfU0REyozUJH"
      },
      "execution_count": null,
      "outputs": []
    },
    {
      "cell_type": "code",
      "source": [
        "#수량자\n",
        "\n",
        "* : 앞에 있는 문자가 0~N개 \n",
        "+ : 앞에 있는 문자가 1~N개\n",
        "? : 앞에 있는 문자가 0~1개 \n"
      ],
      "metadata": {
        "id": "y08aKcIm5rKM"
      },
      "execution_count": null,
      "outputs": []
    },
    {
      "cell_type": "code",
      "source": [
        "#캐릭터 클래스\n",
        "\\w 워드\n",
        "\\d 숫자"
      ],
      "metadata": {
        "id": "QNGNUaFw8N56"
      },
      "execution_count": null,
      "outputs": []
    },
    {
      "cell_type": "markdown",
      "source": [
        "## 공식문서\n",
        "\n",
        "*  https://docs.python.org/ko/3/library/re.html"
      ],
      "metadata": {
        "id": "Gh2RxfgYAmXD"
      }
    },
    {
      "cell_type": "markdown",
      "source": [
        "* 정규표현식에서 자주 사용되는 패턴\n",
        "    * 아래와 같이 2가지 방법으로 사용할 수 있습니다.\n",
        "    ```\n",
        "    # 1\n",
        "    p = re.compile(r'([0-9]|10)([SDT])([\\*\\#]?)')\n",
        "    p.findall('1S2D*3T')\n",
        "\n",
        "    # 2\n",
        "    re.findall(r'([0-9]|10)([SDT])([\\*\\#]?)', '1S2D*3T')\n",
        "    ```\n",
        "    * compile() : 패턴 컴파일\n",
        "    * match() : 문자열의 앞 부분이 매치되는가를 체크, 추출\n",
        "    * sub() : 매치된 부분을 치환 (str에 replace와 같은 역활)\n",
        "    * search() : 선두에 한해서 매치하는지를 체크, 추출\n",
        "    * findall() : 매치된 부분 모두 리스트 반환\n",
        "    * finditer() : 정규식과 매치되는 모든 문자열(substring)을 반복 가능한 객체로 리턴한다.\n",
        "    * spilt() : 정규표현 패턴으로 문자열을 분할 (str에 split과 같은 역활)\n",
        "\n",
        "* 반환 객체의 값\n",
        "    * group() : 매치된 문자열\n",
        "    * groups() : 매치된 문자열 전체\n",
        "    * start() : 매치된 문자열의 시작 위치\n",
        "    * end() : 매치된 문자열의 끝 위치\n",
        "    * span() : 매치된 문자열의 시작과 끝\n",
        "\n",
        "* 컴파일 옵션(플래그)\n",
        "    * 사용 예\n",
        "    ```\n",
        "    re.compile('[a-z]+', re.I)\n",
        "    ```\n",
        "    * re.DOTALL, re.S : 줄바꿈 문자까지 모두 매칭\n",
        "    * re.IGNORECASE, re.I : 대소문자 구분하지 않음\n",
        "    * re.MULTILINE, re.M : ^, & 등의 매칭 패턴을 라인마다 적용\n",
        "    * re.VERBOSE, re.X : 아래와 같이 #으로 주석문을 사용할 수 있음\n",
        "    ```\n",
        "    a = re.compile(r\"\"\"\\d +  # the integral part\n",
        "                   \\.    # the decimal point\n",
        "                   \\d *  # some fractional digits\"\"\", re.X)\n",
        "    b = re.compile(r\"\\d+\\.\\d*\")\n",
        "    ```\n",
        "\n",
        "* tip\n",
        "    * 같은 패턴입니다.\n",
        "    ```\n",
        "    re.compile('\\\\\\\\section')\n",
        "    re.compile(r'\\\\section')\n",
        "    ```\n",
        "    * {}를 표현하고 싶을 때에는 중괄호 2개, 또는 때에 따라 3개가 필요합니다.\n",
        "    ```\n",
        "    re.compile(f'{{section}}')\n",
        "    ```\n"
      ],
      "metadata": {
        "id": "YcBIpFeoArva"
      }
    },
    {
      "cell_type": "code",
      "source": [
        "import re\n",
        "\n",
        "p = re.compile(r'([0-9]|10)([SDT])([\\*\\#]?)')\n",
        "p.findall('1S2D*3T')"
      ],
      "metadata": {
        "colab": {
          "base_uri": "https://localhost:8080/"
        },
        "id": "W91c8REwAn0E",
        "outputId": "fa61a215-9c78-41ff-d181-9066e1831702"
      },
      "execution_count": 64,
      "outputs": [
        {
          "output_type": "execute_result",
          "data": {
            "text/plain": [
              "[('1', 'S', ''), ('2', 'D', '*'), ('3', 'T', '')]"
            ]
          },
          "metadata": {},
          "execution_count": 64
        }
      ]
    },
    {
      "cell_type": "markdown",
      "source": [
        "## compile"
      ],
      "metadata": {
        "id": "gW3JpVeXE_AV"
      }
    },
    {
      "cell_type": "code",
      "source": [
        "#패턴만들기\n",
        "p = re.compile('h[eao]llo')"
      ],
      "metadata": {
        "id": "ukrVYbQaFAs0"
      },
      "execution_count": 65,
      "outputs": []
    },
    {
      "cell_type": "code",
      "source": [
        "\n",
        "text='''\n",
        "hello\n",
        "hallo\n",
        "hollo\n",
        "'''\n",
        "text"
      ],
      "metadata": {
        "colab": {
          "base_uri": "https://localhost:8080/",
          "height": 35
        },
        "id": "eaagYJLhFLlI",
        "outputId": "23b2aa6d-df0f-48a8-ea36-a74f0b032894"
      },
      "execution_count": 66,
      "outputs": [
        {
          "output_type": "execute_result",
          "data": {
            "text/plain": [
              "'\\nhello\\nhallo\\nhollo\\n'"
            ],
            "application/vnd.google.colaboratory.intrinsic+json": {
              "type": "string"
            }
          },
          "metadata": {},
          "execution_count": 66
        }
      ]
    },
    {
      "cell_type": "markdown",
      "source": [
        "## match"
      ],
      "metadata": {
        "id": "wH9EMTJ6Fpj8"
      }
    },
    {
      "cell_type": "markdown",
      "source": [
        "* 실무에서는 특정한 패턴이 존재하는지만 사용하는 것으로 많이 사용합니다. \n",
        "* 찾아서 무언가를 하는 것은 findall 이나 sub 등을 많이 사용함. "
      ],
      "metadata": {
        "id": "gXej50WVHUcN"
      }
    },
    {
      "cell_type": "code",
      "source": [
        "import re\n",
        "\n",
        "p = re.compile('h[eao]llo')\n",
        "p.match('hello hallo hollo hillo hallo hwllo')"
      ],
      "metadata": {
        "colab": {
          "base_uri": "https://localhost:8080/"
        },
        "id": "QHCUx-OiFgcJ",
        "outputId": "c6c68101-ed61-41b6-c67d-4520b4445742"
      },
      "execution_count": 67,
      "outputs": [
        {
          "output_type": "execute_result",
          "data": {
            "text/plain": [
              "<re.Match object; span=(0, 5), match='hello'>"
            ]
          },
          "metadata": {},
          "execution_count": 67
        }
      ]
    },
    {
      "cell_type": "code",
      "source": [
        "result = p.match('hello hallo hollo hillo hallo hwllo')\n",
        "result.group(0)\n"
      ],
      "metadata": {
        "colab": {
          "base_uri": "https://localhost:8080/",
          "height": 35
        },
        "id": "TQAQlboMGI2P",
        "outputId": "ee20cd83-246a-48e8-f0b5-19c31bcda3dd"
      },
      "execution_count": 68,
      "outputs": [
        {
          "output_type": "execute_result",
          "data": {
            "text/plain": [
              "'hello'"
            ],
            "application/vnd.google.colaboratory.intrinsic+json": {
              "type": "string"
            }
          },
          "metadata": {},
          "execution_count": 68
        }
      ]
    },
    {
      "cell_type": "code",
      "source": [
        "p = re.compile('(\\w+) (\\w+) (\\w+)')\n",
        "result = p.match('hello hallo hollo hillo hallo hwllo')\n",
        "\n",
        "result.group(0) #전체그룹 \n",
        "result.group(1) # 그룹1\n",
        "result.group(2) # 그룹2\n",
        "result.group(3) # 그룹3"
      ],
      "metadata": {
        "colab": {
          "base_uri": "https://localhost:8080/",
          "height": 35
        },
        "id": "eumG2lqcGore",
        "outputId": "c9f75dc2-c5df-4cf0-f860-d29a3cf716a4"
      },
      "execution_count": 75,
      "outputs": [
        {
          "output_type": "execute_result",
          "data": {
            "text/plain": [
              "'hollo'"
            ],
            "application/vnd.google.colaboratory.intrinsic+json": {
              "type": "string"
            }
          },
          "metadata": {},
          "execution_count": 75
        }
      ]
    },
    {
      "cell_type": "code",
      "source": [
        "import re\n",
        "\n",
        "p = re.compile('(\\w+) (\\w+) (\\w+)')\n",
        "result = p.match('hello hallo hollo hillo hallo')\n",
        "result.group(1, 2) # 그룹1, 그룹2"
      ],
      "metadata": {
        "colab": {
          "base_uri": "https://localhost:8080/"
        },
        "id": "pXdr-4c9HIGZ",
        "outputId": "d95403a2-99d3-4049-c720-c8ae2b83a41c"
      },
      "execution_count": 78,
      "outputs": [
        {
          "output_type": "execute_result",
          "data": {
            "text/plain": [
              "('hello', 'hallo')"
            ]
          },
          "metadata": {},
          "execution_count": 78
        }
      ]
    },
    {
      "cell_type": "code",
      "source": [
        "import re\n",
        "\n",
        "p = re.compile('h[eao]llo')\n",
        "p.match('hillo hallo hollo hillo hallo') \n",
        "# None값이 출력된 것입니다.\n",
        "# 문자열 앞쪽이 매칭이 안된 것입니다."
      ],
      "metadata": {
        "id": "pKeSriLUiNjG"
      },
      "execution_count": 80,
      "outputs": []
    },
    {
      "cell_type": "code",
      "source": [
        "# 아래 문법은 match 말고도 다른 문법에서도 사용이 가능합니다.\n",
        "\n",
        "m = re.match(r\"(?P<first_name>\\w+) (?P<last_name>\\w+)\", \"Malcolm Reynolds\")\n",
        "m.group('first_name'), m.group('last_name')"
      ],
      "metadata": {
        "colab": {
          "base_uri": "https://localhost:8080/"
        },
        "id": "Rgjs6SQBIFl-",
        "outputId": "f6150572-dd0a-4f99-9e55-a61bc6871b4c"
      },
      "execution_count": 82,
      "outputs": [
        {
          "output_type": "execute_result",
          "data": {
            "text/plain": [
              "('Malcolm', 'Reynolds')"
            ]
          },
          "metadata": {},
          "execution_count": 82
        }
      ]
    },
    {
      "cell_type": "code",
      "source": [
        "m[0]"
      ],
      "metadata": {
        "colab": {
          "base_uri": "https://localhost:8080/",
          "height": 35
        },
        "id": "Z3uuGWOvIpgB",
        "outputId": "65b662f0-6101-4ebc-bff2-e33d5d616da0"
      },
      "execution_count": 83,
      "outputs": [
        {
          "output_type": "execute_result",
          "data": {
            "text/plain": [
              "'Malcolm Reynolds'"
            ],
            "application/vnd.google.colaboratory.intrinsic+json": {
              "type": "string"
            }
          },
          "metadata": {},
          "execution_count": 83
        }
      ]
    },
    {
      "cell_type": "code",
      "source": [
        "m[1]"
      ],
      "metadata": {
        "colab": {
          "base_uri": "https://localhost:8080/",
          "height": 35
        },
        "id": "lJqBL7-LIrkq",
        "outputId": "867cbafa-2fa7-4364-8160-d2f0d5de2703"
      },
      "execution_count": 84,
      "outputs": [
        {
          "output_type": "execute_result",
          "data": {
            "text/plain": [
              "'Malcolm'"
            ],
            "application/vnd.google.colaboratory.intrinsic+json": {
              "type": "string"
            }
          },
          "metadata": {},
          "execution_count": 84
        }
      ]
    },
    {
      "cell_type": "code",
      "source": [
        "m[2]"
      ],
      "metadata": {
        "colab": {
          "base_uri": "https://localhost:8080/",
          "height": 35
        },
        "id": "Aw0keNB2Is_V",
        "outputId": "3c52faf4-c4dc-497d-dd97-86a2636ad42c"
      },
      "execution_count": 85,
      "outputs": [
        {
          "output_type": "execute_result",
          "data": {
            "text/plain": [
              "'Reynolds'"
            ],
            "application/vnd.google.colaboratory.intrinsic+json": {
              "type": "string"
            }
          },
          "metadata": {},
          "execution_count": 85
        }
      ]
    },
    {
      "cell_type": "code",
      "source": [
        "m = re.match(r\"010-(?P<앞자리>[0-9]{4})-(?P<뒷자리>[0-9]{4})\", \"010-1000-2000\")\n",
        "m.group('앞자리'), m.group('뒷자리')"
      ],
      "metadata": {
        "colab": {
          "base_uri": "https://localhost:8080/"
        },
        "id": "J1D2no92IucJ",
        "outputId": "adeee19e-5327-4ee9-dabe-dd7a152a8972"
      },
      "execution_count": 86,
      "outputs": [
        {
          "output_type": "execute_result",
          "data": {
            "text/plain": [
              "('1000', '2000')"
            ]
          },
          "metadata": {},
          "execution_count": 86
        }
      ]
    },
    {
      "cell_type": "code",
      "source": [
        "# 실제로 실무에서 match 사용되는 패턴 (공식문서)\n",
        "valid = re.compile(r\"^[a2-9tjqk]{5}$\")\n",
        "\n",
        "def displaymatch(match):\n",
        "    if match is None:\n",
        "        return None\n",
        "    return '<Match: %r, groups=%r>' % (match.group(), match.groups())\n",
        "\n",
        "displaymatch(valid.match(\"akt5q\"))"
      ],
      "metadata": {
        "colab": {
          "base_uri": "https://localhost:8080/",
          "height": 35
        },
        "id": "X_qwLQepjXsJ",
        "outputId": "d6375d54-401e-4ecc-84ca-618e4da84deb"
      },
      "execution_count": 87,
      "outputs": [
        {
          "output_type": "execute_result",
          "data": {
            "text/plain": [
              "\"<Match: 'akt5q', groups=()>\""
            ],
            "application/vnd.google.colaboratory.intrinsic+json": {
              "type": "string"
            }
          },
          "metadata": {},
          "execution_count": 87
        }
      ]
    },
    {
      "cell_type": "code",
      "source": [
        "#실제로 실무에서 match 사용되는 패턴 (공식문서)\n",
        "valid = re.compile(r\"^[a2-9tjqk]{5}$\")\n",
        "\n",
        "def displaymatch(match):\n",
        "    if match is None:\n",
        "        return None\n",
        "    return '해당 패턴에 매칭됩니다.'\n",
        "\n",
        "displaymatch(valid.match(\"akt5q\"))"
      ],
      "metadata": {
        "colab": {
          "base_uri": "https://localhost:8080/",
          "height": 35
        },
        "id": "knlfjQO1JPSE",
        "outputId": "b644c620-f3e8-4a35-a92b-ea4a00d97346"
      },
      "execution_count": 88,
      "outputs": [
        {
          "output_type": "execute_result",
          "data": {
            "text/plain": [
              "'해당 패턴에 매칭됩니다.'"
            ],
            "application/vnd.google.colaboratory.intrinsic+json": {
              "type": "string"
            }
          },
          "metadata": {},
          "execution_count": 88
        }
      ]
    },
    {
      "cell_type": "markdown",
      "source": [
        "## sub"
      ],
      "metadata": {
        "id": "m4YYRDqejla3"
      }
    },
    {
      "cell_type": "code",
      "source": [
        "# 문제링크 : https://school.programmers.co.kr/learn/courses/30/lessons/120849"
      ],
      "metadata": {
        "id": "YsWr7Hb7Jnlr"
      },
      "execution_count": null,
      "outputs": []
    },
    {
      "cell_type": "code",
      "source": [
        "def solution(my_string):\n",
        "    return my_string.replace('a', '').replace('e', '').replace('i', '').replace('o', '').replace('u', '')"
      ],
      "metadata": {
        "id": "mzXLY8OTJyyE"
      },
      "execution_count": 90,
      "outputs": []
    },
    {
      "cell_type": "code",
      "source": [
        "def solution(my_string):\n",
        "    string = 'aeiou'\n",
        "    for i in string:\n",
        "        my_string = my_string.replace(i, '')\n",
        "    return my_string"
      ],
      "metadata": {
        "id": "o1RFLkK1KU6W"
      },
      "execution_count": 89,
      "outputs": []
    },
    {
      "cell_type": "code",
      "source": [
        "#우리는 정규표현식을 사용해서 풀고 싶음\n",
        "\n",
        "import re\n",
        "\n",
        "def solution(my_string):\n",
        "    return re.sub(r\"[aeiou]\", \"\", my_string)"
      ],
      "metadata": {
        "id": "yqhToPfCKWJm"
      },
      "execution_count": 33,
      "outputs": []
    },
    {
      "cell_type": "code",
      "source": [
        "import re\n",
        "\n",
        "solution = lambda my_string: re.sub(r\"[aeiou]\", \"\", my_string)"
      ],
      "metadata": {
        "id": "y95y4MqASJez"
      },
      "execution_count": 91,
      "outputs": []
    },
    {
      "cell_type": "code",
      "source": [],
      "metadata": {
        "id": "pz9V9IxFj81u"
      },
      "execution_count": null,
      "outputs": []
    },
    {
      "cell_type": "code",
      "source": [
        "m = re.match(r\"(?P<용자리>0[0-9]{2})[-. ]?(?P<앞자리>[0-9]{3,})[-. ]?(?P<뒷자리>[0-9]{4,})\", \"020 0002000\")\n",
        "m.group('앞자리'), m.group('뒷자리'), m.group('용자리')"
      ],
      "metadata": {
        "colab": {
          "base_uri": "https://localhost:8080/"
        },
        "id": "Y-Gue_2GQp5L",
        "outputId": "47132dfb-1a54-4b45-f656-6313ec11b4a0"
      },
      "execution_count": 113,
      "outputs": [
        {
          "output_type": "execute_result",
          "data": {
            "text/plain": [
              "('000', '2000', '020')"
            ]
          },
          "metadata": {},
          "execution_count": 113
        }
      ]
    },
    {
      "cell_type": "code",
      "source": [
        "import re\n",
        "p = re.compile('0[0-9]{2}[-. ]?[0-9]{3,}[-. ]?[0-9]{4,}')"
      ],
      "metadata": {
        "id": "Mg0AiQH_P_Dj"
      },
      "execution_count": 110,
      "outputs": []
    },
    {
      "cell_type": "code",
      "source": [
        "text='''010-9091-5491\n",
        "010-5043-2901\n",
        "010-5050-40409\n",
        "010 2913 3132\n",
        "01019133829\n",
        "064-721-3213\n",
        "010.1913.3829'''"
      ],
      "metadata": {
        "id": "DSlZg8sKKqzc"
      },
      "execution_count": 111,
      "outputs": []
    },
    {
      "cell_type": "code",
      "source": [
        "p.findall(text)"
      ],
      "metadata": {
        "colab": {
          "base_uri": "https://localhost:8080/"
        },
        "id": "POLSRPZ4nD5e",
        "outputId": "b5c6ee60-cc55-49c6-b5a1-a1b300b4ba2e"
      },
      "execution_count": 112,
      "outputs": [
        {
          "output_type": "execute_result",
          "data": {
            "text/plain": [
              "['010-9091-5491',\n",
              " '010-5043-2901',\n",
              " '010-5050-40409',\n",
              " '010 2913 3132',\n",
              " '01019133829',\n",
              " '064-721-3213',\n",
              " '010.1913.3829']"
            ]
          },
          "metadata": {},
          "execution_count": 112
        }
      ]
    }
  ]
}